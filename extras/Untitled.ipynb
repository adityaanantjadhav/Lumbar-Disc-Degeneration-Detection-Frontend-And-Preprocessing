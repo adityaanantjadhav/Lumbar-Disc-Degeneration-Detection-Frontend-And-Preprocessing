{
 "cells": [
  {
   "cell_type": "code",
   "execution_count": 1,
   "id": "1d2063aa-53e7-4327-b4d3-2b88e51f6bab",
   "metadata": {},
   "outputs": [],
   "source": [
    "from ultralytics import YOLO"
   ]
  },
  {
   "cell_type": "code",
   "execution_count": 27,
   "id": "bc4f3ae7-2c52-406f-8fee-4db9a9c4b11d",
   "metadata": {},
   "outputs": [],
   "source": [
    "sagittal=YOLO(r\"E:\\New project final year\\Newest Models\\axial\\weights\\best.pt\")"
   ]
  },
  {
   "cell_type": "code",
   "execution_count": 37,
   "id": "12925e83-2549-4190-a99e-22b39a364e4d",
   "metadata": {},
   "outputs": [
    {
     "name": "stdout",
     "output_type": "stream",
     "text": [
      "\n",
      "image 1/1 C:\\Users\\yj261\\Downloads\\90711686_1614973506_8.png: 640x640 1 LSS, 1 RSS, 347.9ms\n",
      "Speed: 8.4ms preprocess, 347.9ms inference, 0.0ms postprocess per image at shape (1, 3, 640, 640)\n"
     ]
    }
   ],
   "source": [
    "results = sagittal.predict(r\"C:\\Users\\yj261\\Downloads\\90711686_1614973506_8.png\")  # Replace with your image path"
   ]
  },
  {
   "cell_type": "code",
   "execution_count": 38,
   "id": "c95d9a26-fd84-4730-b336-d540a4e41c6d",
   "metadata": {},
   "outputs": [],
   "source": [
    "results[0].show()  # Displays annotated image"
   ]
  },
  {
   "cell_type": "code",
   "execution_count": 30,
   "id": "dbbe7676-020b-4e27-9db6-3099e846beaf",
   "metadata": {},
   "outputs": [
    {
     "data": {
      "text/plain": [
       "'axial.png'"
      ]
     },
     "execution_count": 30,
     "metadata": {},
     "output_type": "execute_result"
    }
   ],
   "source": [
    "results[0].save(filename=\"axial.png\") "
   ]
  },
  {
   "cell_type": "code",
   "execution_count": 8,
   "id": "573a697b-bc0b-4fad-86e1-aa9c1df13ba6",
   "metadata": {},
   "outputs": [
    {
     "name": "stdout",
     "output_type": "stream",
     "text": [
      "Class: LNFN, Confidence: 0.70\n",
      "Class: LNFN, Confidence: 0.65\n",
      "Class: LNFN, Confidence: 0.54\n",
      "Class: LNFN, Confidence: 0.49\n"
     ]
    }
   ],
   "source": [
    "for result in results:\n",
    "    for box in result.boxes:\n",
    "        class_id = int(box.cls.item())  # Extract class ID as integer\n",
    "        class_name = sagittal.names[class_id]  # Use the model's class names\n",
    "        confidence = box.conf.item()  # Extract confidence as float\n",
    "        print(f\"Class: {class_name}, Confidence: {confidence:.2f}\")"
   ]
  },
  {
   "cell_type": "code",
   "execution_count": null,
   "id": "7f52265e-70c5-4b43-af4f-72c4e0211a3c",
   "metadata": {},
   "outputs": [],
   "source": []
  }
 ],
 "metadata": {
  "kernelspec": {
   "display_name": "Python 3 (ipykernel)",
   "language": "python",
   "name": "python3"
  },
  "language_info": {
   "codemirror_mode": {
    "name": "ipython",
    "version": 3
   },
   "file_extension": ".py",
   "mimetype": "text/x-python",
   "name": "python",
   "nbconvert_exporter": "python",
   "pygments_lexer": "ipython3",
   "version": "3.10.6"
  }
 },
 "nbformat": 4,
 "nbformat_minor": 5
}
